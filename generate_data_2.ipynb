{
 "cells": [
  {
   "cell_type": "code",
   "execution_count": 2,
   "metadata": {},
   "outputs": [],
   "source": [
    "import matplotlib.pyplot as plt\n",
    "import numpy as np\n",
    "import csv"
   ]
  },
  {
   "cell_type": "code",
   "execution_count": 4,
   "metadata": {},
   "outputs": [],
   "source": [
    "theta_1 = np.linspace(-1,1,2)\n",
    "theta_2 = np.linspace(-1,1,2)\n",
    "l1 = 1\n",
    "l2 = 1\n",
    "\n",
    "randomsamples = 4\n",
    "\n",
    "data = []\n",
    "for theta_1_i in theta_1:\n",
    "    for theta_2_i in theta_2:\n",
    "        x = np.round(l1*np.cos(theta_1_i) + l2*np.cos(theta_2_i),2)\n",
    "        y = np.round(l1*np.sin(theta_1_i) + l2*np.sin(theta_2_i),2)\n",
    "        outputjoints = (np.round(theta_1_i,2),np.round(theta_2_i,2))\n",
    "        for sample in range(randomsamples):\n",
    "            samplejoints = (np.round(theta_1_i + 0.1*np.random.random() ,2) ,np.round(theta_2_i + 0.1*np.random.random() ,2))\n",
    "            data.append( [ (x,y) , samplejoints , outputjoints ] )\n",
    "\n",
    "# fig = plt.figure()\n",
    "# for i,j in data.items():\n",
    "#     # print(f'key: {i}; element: {j}')\n",
    "#     plt.scatter(j[0],j[1])\n",
    "# plt.show()"
   ]
  },
  {
   "cell_type": "code",
   "execution_count": 5,
   "metadata": {},
   "outputs": [
    {
     "data": {
      "text/plain": [
       "[[(1.08, -1.68), (-0.92, -0.96), (-1.0, -1.0)],\n",
       " [(1.08, -1.68), (-0.99, -0.96), (-1.0, -1.0)],\n",
       " [(1.08, -1.68), (-0.92, -0.93), (-1.0, -1.0)],\n",
       " [(1.08, -1.68), (-0.99, -0.94), (-1.0, -1.0)],\n",
       " [(1.08, 0.0), (-0.94, 1.07), (-1.0, 1.0)],\n",
       " [(1.08, 0.0), (-0.95, 1.02), (-1.0, 1.0)],\n",
       " [(1.08, 0.0), (-0.98, 1.04), (-1.0, 1.0)],\n",
       " [(1.08, 0.0), (-0.95, 1.01), (-1.0, 1.0)],\n",
       " [(1.08, 0.0), (1.05, -0.99), (1.0, -1.0)],\n",
       " [(1.08, 0.0), (1.04, -0.98), (1.0, -1.0)],\n",
       " [(1.08, 0.0), (1.05, -0.94), (1.0, -1.0)],\n",
       " [(1.08, 0.0), (1.01, -0.97), (1.0, -1.0)],\n",
       " [(1.08, 1.68), (1.09, 1.01), (1.0, 1.0)],\n",
       " [(1.08, 1.68), (1.09, 1.02), (1.0, 1.0)],\n",
       " [(1.08, 1.68), (1.04, 1.07), (1.0, 1.0)],\n",
       " [(1.08, 1.68), (1.04, 1.07), (1.0, 1.0)]]"
      ]
     },
     "execution_count": 5,
     "metadata": {},
     "output_type": "execute_result"
    }
   ],
   "source": [
    "data"
   ]
  },
  {
   "cell_type": "code",
   "execution_count": null,
   "metadata": {},
   "outputs": [],
   "source": [
    "# # open file for writing, \"w\" is writing\n",
    "# mydata = csv.writer(open(\"output.csv\", \"w\"))\n",
    "\n",
    "# # loop over dictionary keys and values\n",
    "# for key, val in data.items():\n",
    "\n",
    "#     # write every key and value to file\n",
    "#     mydata.writerow([key, val])"
   ]
  }
 ],
 "metadata": {
  "kernelspec": {
   "display_name": "Python 3",
   "language": "python",
   "name": "python3"
  },
  "language_info": {
   "codemirror_mode": {
    "name": "ipython",
    "version": 3
   },
   "file_extension": ".py",
   "mimetype": "text/x-python",
   "name": "python",
   "nbconvert_exporter": "python",
   "pygments_lexer": "ipython3",
   "version": "3.8.10"
  },
  "orig_nbformat": 4,
  "vscode": {
   "interpreter": {
    "hash": "916dbcbb3f70747c44a77c7bcd40155683ae19c65e1c03b4aa3499c5328201f1"
   }
  }
 },
 "nbformat": 4,
 "nbformat_minor": 2
}
